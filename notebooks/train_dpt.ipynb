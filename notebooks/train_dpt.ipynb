{
  "nbformat": 4,
  "nbformat_minor": 0,
  "metadata": {
    "colab": {
      "name": "train_dpt.ipynb",
      "provenance": [],
      "collapsed_sections": []
    },
    "kernelspec": {
      "name": "python3",
      "display_name": "Python 3"
    },
    "language_info": {
      "name": "python"
    },
    "accelerator": "GPU"
  },
  "cells": [
    {
      "cell_type": "code",
      "source": [
        "!nvidia-smi"
      ],
      "metadata": {
        "id": "Bh6AcY9U65bn"
      },
      "execution_count": null,
      "outputs": []
    },
    {
      "cell_type": "markdown",
      "source": [
        "# Colab Setup"
      ],
      "metadata": {
        "id": "evkudm_wXojs"
      }
    },
    {
      "cell_type": "code",
      "source": [
        "!git clone https://github.com/pskchai/food-depth-dpt.git"
      ],
      "metadata": {
        "id": "mq6PmZWFYl4c"
      },
      "execution_count": null,
      "outputs": []
    },
    {
      "cell_type": "code",
      "source": [
        "!wget https://github.com/intel-isl/DPT/releases/download/1_0/dpt_hybrid-midas-501f0c75.pt -P /content/food-depth-dpt/weights/"
      ],
      "metadata": {
        "id": "CbyLYBmNYyeI"
      },
      "execution_count": null,
      "outputs": []
    },
    {
      "cell_type": "code",
      "source": [
        "!mkdir /content/food-depth-dpt/data/\n",
        "!cp '/content/drive/Shareddrives/Food Analytic/Data/nutrition5k_lite.zip' /content/food-depth-dpt/data/\n",
        "%cd /content/food-depth-dpt/data/\n",
        "!unzip -qq nutrition5k_lite.zip\n",
        "!rm nutrition5k_lite.zip\n",
        "%cd -"
      ],
      "metadata": {
        "id": "HxbNX9LRZGCq"
      },
      "execution_count": null,
      "outputs": []
    },
    {
      "cell_type": "code",
      "source": [
        "%pip install -qqq -r /content/food-depth-dpt/requirements.txt\n",
        "%pip install -qqq torchinfo"
      ],
      "metadata": {
        "id": "t3axytq9Ur5A"
      },
      "execution_count": null,
      "outputs": []
    },
    {
      "cell_type": "markdown",
      "source": [
        "# Preparation\n",
        "Import libraries and set configurations"
      ],
      "metadata": {
        "id": "26GwgAnrXusF"
      }
    },
    {
      "cell_type": "code",
      "execution_count": null,
      "metadata": {
        "id": "LDO68ZGxTQNL"
      },
      "outputs": [],
      "source": [
        "%cd /content/food-depth-dpt/\n",
        "\n",
        "import os\n",
        "import time\n",
        "from datetime import datetime\n",
        "import matplotlib.pyplot as plt\n",
        "import torch\n",
        "import pytorch_lightning as pl\n",
        "from torchinfo import summary\n",
        "from finetune.models import DPTModule"
      ]
    },
    {
      "cell_type": "code",
      "execution_count": null,
      "metadata": {
        "id": "NAbacGx3TQNR"
      },
      "outputs": [],
      "source": [
        "config = {\n",
        "    'base_scale': 0.0000305,\n",
        "    'base_shift': 0.1378,\n",
        "    'batch_size': 16,\n",
        "    'image_size': (384, 384),\n",
        "    'base_lr': 1e-6,\n",
        "    'max_lr': 1e-5,\n",
        "    'num_epochs' : 70,\n",
        "    'early_stopping_patience': 10,\n",
        "    'num_workers': 2,\n",
        "    'model_path': '/content/food-depth-dpt/weights/dpt_hybrid-midas-501f0c75.pt',\n",
        "    'dataset_path': '/content/food-depth-dpt/data/nutrition5k/',\n",
        "    'weights_save_path': '/content/drive/Shareddrives/Food Analytic/models/DPT/',\n",
        "    'logs_save_path': '/content/drive/Shareddrives/Food Analytic/models/DPT/',\n",
        "    'checkpoint_path': '/content/drive/Shareddrives/Food Analytic/models/DPT/lightning_logs/version_1/checkpoints/epoch=57-step=9976.ckpt',\n",
        "}\n",
        "\n",
        "pl.seed_everything(42)"
      ]
    },
    {
      "cell_type": "markdown",
      "source": [
        "# Tensorboard"
      ],
      "metadata": {
        "id": "A0QrpcgImX16"
      }
    },
    {
      "cell_type": "code",
      "source": [
        "%load_ext tensorboard"
      ],
      "metadata": {
        "id": "MAdj-okMmZtN"
      },
      "execution_count": null,
      "outputs": []
    },
    {
      "cell_type": "code",
      "source": [
        "%tensorboard --logdir \"{config['logs_save_path']}\""
      ],
      "metadata": {
        "id": "oMDTX_G614xx"
      },
      "execution_count": null,
      "outputs": []
    },
    {
      "cell_type": "markdown",
      "source": [
        "# Training\n",
        "Create and train the DPT model by using pytorch lightning."
      ],
      "metadata": {
        "id": "N9sD1BRcmJU8"
      }
    },
    {
      "cell_type": "code",
      "source": [
        "model = DPTModule(\n",
        "    model_path=config['model_path'],\n",
        "    dataset_path=config['dataset_path'],\n",
        "    scale=config['base_scale'],\n",
        "    shift=config['base_shift'],\n",
        "    batch_size=config['batch_size'],\n",
        "    base_lr=config['base_lr'],\n",
        "    max_lr=config['max_lr'],\n",
        "    num_workers=config['num_workers'],\n",
        "    image_size=config['image_size'],\n",
        ")\n",
        "\n",
        "summary(model.model, input_size=(1, 3, config['image_size'][0], config['image_size'][1]))"
      ],
      "metadata": {
        "id": "ZblulmWbhP9U"
      },
      "execution_count": null,
      "outputs": []
    },
    {
      "cell_type": "code",
      "execution_count": null,
      "metadata": {
        "id": "4w1TbWdMTQNY"
      },
      "outputs": [],
      "source": [
        "logger = pl.loggers.TensorBoardLogger(\n",
        "    save_dir=config['logs_save_path'],\n",
        ")\n",
        "\n",
        "lr_monitor = pl.callbacks.LearningRateMonitor()\n",
        "early_stopping = pl.callbacks.EarlyStopping(monitor=\"val_loss\", patience=config['early_stopping_patience'])\n",
        "\n",
        "trainer = pl.Trainer(\n",
        "    devices='auto',\n",
        "    accelerator='auto',\n",
        "    max_epochs=config['num_epochs'],\n",
        "    logger=logger,\n",
        "    callbacks=[lr_monitor, early_stopping],\n",
        "    weights_save_path=config['weights_save_path']\n",
        ")\n",
        "\n",
        "trainer.fit(model, ckpt_path=config['checkpoint_path'])"
      ]
    },
    {
      "cell_type": "markdown",
      "source": [
        "After the training is successfully finished, run the following cell to extract the DPT weights from pytorch lightning module."
      ],
      "metadata": {
        "id": "LhH_pXttCkli"
      }
    },
    {
      "cell_type": "code",
      "source": [
        "module_name = 'lightning_logs'\n",
        "latest_version = sorted(os.listdir(os.path.join(config['weights_save_path'], module_name)))[-1]\n",
        "\n",
        "checkpoint_base_path = os.path.join(config['weights_save_path'], module_name, latest_version, 'checkpoints')\n",
        "saved_model_base_path = '/content/drive/Shareddrives/Food Analytic/models/DPT/state_dict'\n",
        "\n",
        "checkpoint_filename = sorted(os.listdir(checkpoint_base_path))[-1]\n",
        "saved_model_filename = f'{datetime.now().strftime(\"%Y_%m_%d_%H_%M_%S\")}.pt'\n",
        "loaded_module = model.load_from_checkpoint(\n",
        "    os.path.join(checkpoint_base_path, checkpoint_filename),\n",
        "    model_path=config['model_path'],\n",
        "    dataset_path=config['dataset_path'],\n",
        "    scale=config['base_scale'],\n",
        "    shift=config['base_shift'],\n",
        "    batch_size=config['batch_size'],\n",
        "    base_lr=config['base_lr'],\n",
        "    max_lr=config['max_lr'],\n",
        "    num_workers=config['num_workers'],\n",
        "    image_size=config['image_size'],\n",
        ")\n",
        "\n",
        "model_state_dict = loaded_module.model.state_dict()\n",
        "\n",
        "torch.save(model_state_dict, os.path.join(saved_model_base_path, saved_model_filename))"
      ],
      "metadata": {
        "id": "PmCvb0JyQKTA"
      },
      "execution_count": null,
      "outputs": []
    }
  ]
}